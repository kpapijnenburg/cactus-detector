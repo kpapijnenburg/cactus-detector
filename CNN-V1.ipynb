{
 "metadata": {
  "language_info": {
   "codemirror_mode": {
    "name": "ipython",
    "version": 3
   },
   "file_extension": ".py",
   "mimetype": "text/x-python",
   "name": "python",
   "nbconvert_exporter": "python",
   "pygments_lexer": "ipython3",
   "version": "3.8.3-final"
  },
  "orig_nbformat": 2,
  "kernelspec": {
   "name": "python3",
   "display_name": "Python 3"
  }
 },
 "nbformat": 4,
 "nbformat_minor": 2,
 "cells": [
  {
   "cell_type": "code",
   "execution_count": 2,
   "metadata": {},
   "outputs": [],
   "source": [
    "import numpy as np\n",
    "import matplotlib.pyplot as plt\n",
    "import cv2\n",
    "from tensorflow import keras"
   ]
  },
  {
   "source": [
    "# Convolutional Network V1"
   ],
   "cell_type": "markdown",
   "metadata": {}
  },
  {
   "cell_type": "code",
   "execution_count": 3,
   "metadata": {},
   "outputs": [],
   "source": [
    "# Constants\n",
    "TEST_DATA_DIR = '/data/test'\n",
    "TRAIN_DATA_DIR = '/data/train'\n",
    "TRAIN_DATA_LABELS = 'data/train.csv'\n",
    "\n",
    "IMG_WIDTH = 32\n",
    "IMG_HEIGTH = 32\n",
    "BATCH_SIZE = 128\n",
    "EPOCHS = 30"
   ]
  }
 ]
}