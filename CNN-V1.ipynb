{
 "metadata": {
  "language_info": {
   "codemirror_mode": {
    "name": "ipython",
    "version": 3
   },
   "file_extension": ".py",
   "mimetype": "text/x-python",
   "name": "python",
   "nbconvert_exporter": "python",
   "pygments_lexer": "ipython3",
   "version": "3.8.3-final"
  },
  "orig_nbformat": 2,
  "kernelspec": {
   "name": "python3",
   "display_name": "Python 3"
  }
 },
 "nbformat": 4,
 "nbformat_minor": 2,
 "cells": [
  {
   "cell_type": "code",
   "execution_count": 25,
   "metadata": {},
   "outputs": [],
   "source": [
    "import numpy as np\n",
    "import matplotlib.pyplot as plt\n",
    "import cv2\n",
    "from tensorflow.keras.models import Sequential\n",
    "from tensorflow.keras.layers import Dense, Conv2D, Flatten\n",
    "from tensorflow.keras.preprocessing.image import ImageDataGenerator"
   ]
  },
  {
   "cell_type": "code",
   "execution_count": 26,
   "metadata": {},
   "outputs": [],
   "source": [
    "# Constants\n",
    "TEST_DATA_DIR = 'data/test'\n",
    "TRAIN_DATA_DIR = 'data/train'\n",
    "TRAIN_DATA_LABELS = 'data/train.csv'\n",
    "\n",
    "IMG_WIDTH = 32\n",
    "IMG_HEIGTH = 32\n",
    "BATCH_SIZE = 32\n",
    "GENERATOR_SEED = 1910\n",
    "EPOCHS = 8"
   ]
  },
  {
   "cell_type": "code",
   "execution_count": 27,
   "metadata": {},
   "outputs": [
    {
     "output_type": "stream",
     "name": "stdout",
     "text": [
      "Found 17500 images belonging to 2 classes.\n",
      "Found 4000 images belonging to 1 classes.\n"
     ]
    }
   ],
   "source": [
    "# Data Generator tutorial: https://towardsdatascience.com/keras-data-generators-and-how-to-use-them-b69129ed779c\n",
    "train_datagen = ImageDataGenerator()\n",
    "test_datagen = ImageDataGenerator()\n",
    "\n",
    "train_generator = train_datagen.flow_from_directory(\n",
    "    TRAIN_DATA_DIR,\n",
    "    target_size=(IMG_WIDTH, IMG_HEIGTH),\n",
    "    color_mode=\"rgb\",\n",
    "    batch_size=BATCH_SIZE,\n",
    "    class_mode='binary',\n",
    "    seed=GENERATOR_SEED,\n",
    "    )\n",
    "\n",
    "test_generator = test_datagen.flow_from_directory(\n",
    "    TEST_DATA_DIR,\n",
    "    target_size=(IMG_WIDTH, IMG_HEIGTH),\n",
    "    color_mode=\"rgb\",\n",
    "    class_mode=None,\n",
    "    batch_size=1,\n",
    "    seed=GENERATOR_SEED,\n",
    ")"
   ]
  },
  {
   "cell_type": "code",
   "execution_count": 28,
   "metadata": {},
   "outputs": [],
   "source": [
    "# Build base model.\n",
    "base_model = Sequential()\n",
    "\n",
    "base_model.add(Conv2D(64, kernel_size=3, activation='relu', input_shape=(IMG_HEIGTH, IMG_WIDTH, 3)))\n",
    "base_model.add(Conv2D(32, kernel_size=3, activation='relu'))\n",
    "base_model.add(Flatten())\n",
    "base_model.add(Dense(1, activation='sigmoid'))"
   ]
  },
  {
   "cell_type": "code",
   "execution_count": 29,
   "metadata": {},
   "outputs": [
    {
     "output_type": "stream",
     "name": "stdout",
     "text": [
      "Model: \"sequential_7\"\n_________________________________________________________________\nLayer (type)                 Output Shape              Param #   \n=================================================================\nconv2d_14 (Conv2D)           (None, 30, 30, 64)        1792      \n_________________________________________________________________\nconv2d_15 (Conv2D)           (None, 28, 28, 32)        18464     \n_________________________________________________________________\nflatten_2 (Flatten)          (None, 25088)             0         \n_________________________________________________________________\ndense_7 (Dense)              (None, 1)                 25089     \n=================================================================\nTotal params: 45,345\nTrainable params: 45,345\nNon-trainable params: 0\n_________________________________________________________________\n"
     ]
    }
   ],
   "source": [
    "model.compile(optimizer='adam', loss='binary_crossentropy', metrics=['accuracy'])\n",
    "model.summary()"
   ]
  },
  {
   "cell_type": "code",
   "execution_count": 30,
   "metadata": {},
   "outputs": [
    {
     "output_type": "stream",
     "name": "stdout",
     "text": [
      "Epoch 1/5\n",
      "547/547 [==============================] - 74s 135ms/step - loss: 0.6951 - accuracy: 0.8937\n",
      "Epoch 2/5\n",
      "547/547 [==============================] - 26s 47ms/step - loss: 0.4648 - accuracy: 0.7833\n",
      "Epoch 3/5\n",
      "547/547 [==============================] - 26s 47ms/step - loss: 0.5180 - accuracy: 0.6546\n",
      "Epoch 4/5\n",
      "547/547 [==============================] - 26s 48ms/step - loss: 0.3022 - accuracy: 0.7931\n",
      "Epoch 5/5\n",
      "547/547 [==============================] - 27s 50ms/step - loss: 0.2765 - accuracy: 0.8929\n"
     ]
    },
    {
     "output_type": "execute_result",
     "data": {
      "text/plain": [
       "<tensorflow.python.keras.callbacks.History at 0x14c82ea44c0>"
      ]
     },
     "metadata": {},
     "execution_count": 30
    }
   ],
   "source": [
    "base_history = model.fit(x=train_generator, epochs=EPOCHS)"
   ]
  }
 ]
}